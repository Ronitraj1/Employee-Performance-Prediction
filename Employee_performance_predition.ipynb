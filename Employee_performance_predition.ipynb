{
  "cells": [
    {
      "cell_type": "code",
      "execution_count": 43,
      "metadata": {
        "dotnet_interactive": {
          "language": "csharp"
        },
        "polyglot_notebook": {
          "kernelName": "csharp"
        }
      },
      "outputs": [
        {
          "name": "stdout",
          "output_type": "stream",
          "text": [
            "Requirement already satisfied: numpy in c:\\users\\user\\onedrive\\ml\\employee-performance-prediction\\.venv\\lib\\site-packages (2.3.2)\n",
            "Note: you may need to restart the kernel to use updated packages.\n"
          ]
        }
      ],
      "source": [
        "pip install numpy"
      ]
    },
    {
      "cell_type": "code",
      "execution_count": 44,
      "metadata": {
        "colab": {
          "base_uri": "https://localhost:8080/"
        },
        "id": "C4svZWGb0zS0",
        "outputId": "296fa7c8-e368-477a-e0eb-57945d611449"
      },
      "outputs": [
        {
          "name": "stdout",
          "output_type": "stream",
          "text": [
            "Requirement already satisfied: pandas in c:\\users\\user\\onedrive\\ml\\employee-performance-prediction\\.venv\\lib\\site-packages (2.3.1)\n",
            "Requirement already satisfied: numpy>=1.26.0 in c:\\users\\user\\onedrive\\ml\\employee-performance-prediction\\.venv\\lib\\site-packages (from pandas) (2.3.2)\n",
            "Requirement already satisfied: python-dateutil>=2.8.2 in c:\\users\\user\\onedrive\\ml\\employee-performance-prediction\\.venv\\lib\\site-packages (from pandas) (2.9.0.post0)\n",
            "Requirement already satisfied: pytz>=2020.1 in c:\\users\\user\\onedrive\\ml\\employee-performance-prediction\\.venv\\lib\\site-packages (from pandas) (2025.2)\n",
            "Requirement already satisfied: tzdata>=2022.7 in c:\\users\\user\\onedrive\\ml\\employee-performance-prediction\\.venv\\lib\\site-packages (from pandas) (2025.2)\n",
            "Requirement already satisfied: six>=1.5 in c:\\users\\user\\onedrive\\ml\\employee-performance-prediction\\.venv\\lib\\site-packages (from python-dateutil>=2.8.2->pandas) (1.17.0)\n",
            "Note: you may need to restart the kernel to use updated packages.\n"
          ]
        }
      ],
      "source": [
        "pip install pandas"
      ]
    },
    {
      "cell_type": "code",
      "execution_count": 45,
      "metadata": {
        "colab": {
          "base_uri": "https://localhost:8080/"
        },
        "id": "8tzvIZy803Lk",
        "outputId": "fc2493db-0573-4ad7-c643-31e29368acff"
      },
      "outputs": [
        {
          "name": "stdout",
          "output_type": "stream",
          "text": [
            "Requirement already satisfied: scikit-learn in c:\\users\\user\\onedrive\\ml\\employee-performance-prediction\\.venv\\lib\\site-packages (1.7.1)\n",
            "Requirement already satisfied: numpy>=1.22.0 in c:\\users\\user\\onedrive\\ml\\employee-performance-prediction\\.venv\\lib\\site-packages (from scikit-learn) (2.3.2)\n",
            "Requirement already satisfied: scipy>=1.8.0 in c:\\users\\user\\onedrive\\ml\\employee-performance-prediction\\.venv\\lib\\site-packages (from scikit-learn) (1.16.1)\n",
            "Requirement already satisfied: joblib>=1.2.0 in c:\\users\\user\\onedrive\\ml\\employee-performance-prediction\\.venv\\lib\\site-packages (from scikit-learn) (1.5.1)\n",
            "Requirement already satisfied: threadpoolctl>=3.1.0 in c:\\users\\user\\onedrive\\ml\\employee-performance-prediction\\.venv\\lib\\site-packages (from scikit-learn) (3.6.0)\n",
            "Note: you may need to restart the kernel to use updated packages.\n"
          ]
        }
      ],
      "source": [
        "pip install scikit-learn"
      ]
    },
    {
      "cell_type": "code",
      "execution_count": 46,
      "metadata": {
        "colab": {
          "base_uri": "https://localhost:8080/"
        },
        "id": "F0MLqQwY09SY",
        "outputId": "daacd2ca-b49d-4d1c-8380-65df67f2f827"
      },
      "outputs": [
        {
          "name": "stdout",
          "output_type": "stream",
          "text": [
            "Requirement already satisfied: matplotlib in c:\\users\\user\\onedrive\\ml\\employee-performance-prediction\\.venv\\lib\\site-packages (3.10.3)\n",
            "Requirement already satisfied: contourpy>=1.0.1 in c:\\users\\user\\onedrive\\ml\\employee-performance-prediction\\.venv\\lib\\site-packages (from matplotlib) (1.3.3)\n",
            "Requirement already satisfied: cycler>=0.10 in c:\\users\\user\\onedrive\\ml\\employee-performance-prediction\\.venv\\lib\\site-packages (from matplotlib) (0.12.1)\n",
            "Requirement already satisfied: fonttools>=4.22.0 in c:\\users\\user\\onedrive\\ml\\employee-performance-prediction\\.venv\\lib\\site-packages (from matplotlib) (4.59.0)\n",
            "Requirement already satisfied: kiwisolver>=1.3.1 in c:\\users\\user\\onedrive\\ml\\employee-performance-prediction\\.venv\\lib\\site-packages (from matplotlib) (1.4.8)\n",
            "Requirement already satisfied: numpy>=1.23 in c:\\users\\user\\onedrive\\ml\\employee-performance-prediction\\.venv\\lib\\site-packages (from matplotlib) (2.3.2)\n",
            "Requirement already satisfied: packaging>=20.0 in c:\\users\\user\\onedrive\\ml\\employee-performance-prediction\\.venv\\lib\\site-packages (from matplotlib) (25.0)\n",
            "Requirement already satisfied: pillow>=8 in c:\\users\\user\\onedrive\\ml\\employee-performance-prediction\\.venv\\lib\\site-packages (from matplotlib) (11.3.0)\n",
            "Requirement already satisfied: pyparsing>=2.3.1 in c:\\users\\user\\onedrive\\ml\\employee-performance-prediction\\.venv\\lib\\site-packages (from matplotlib) (3.2.3)\n",
            "Requirement already satisfied: python-dateutil>=2.7 in c:\\users\\user\\onedrive\\ml\\employee-performance-prediction\\.venv\\lib\\site-packages (from matplotlib) (2.9.0.post0)\n",
            "Requirement already satisfied: six>=1.5 in c:\\users\\user\\onedrive\\ml\\employee-performance-prediction\\.venv\\lib\\site-packages (from python-dateutil>=2.7->matplotlib) (1.17.0)\n",
            "Note: you may need to restart the kernel to use updated packages.\n"
          ]
        }
      ],
      "source": [
        "pip install matplotlib"
      ]
    },
    {
      "cell_type": "markdown",
      "metadata": {},
      "source": []
    },
    {
      "cell_type": "code",
      "execution_count": 47,
      "metadata": {
        "colab": {
          "base_uri": "https://localhost:8080/"
        },
        "id": "rzLNsOze1EL3",
        "outputId": "74b94685-a03e-4b14-bb8e-7dd77fff9e71"
      },
      "outputs": [
        {
          "name": "stdout",
          "output_type": "stream",
          "text": [
            "Requirement already satisfied: scipy in c:\\users\\user\\onedrive\\ml\\employee-performance-prediction\\.venv\\lib\\site-packages (1.16.1)\n",
            "Requirement already satisfied: numpy<2.6,>=1.25.2 in c:\\users\\user\\onedrive\\ml\\employee-performance-prediction\\.venv\\lib\\site-packages (from scipy) (2.3.2)\n",
            "Note: you may need to restart the kernel to use updated packages.\n"
          ]
        }
      ],
      "source": [
        "pip install scipy"
      ]
    },
    {
      "cell_type": "code",
      "execution_count": 48,
      "metadata": {
        "colab": {
          "base_uri": "https://localhost:8080/"
        },
        "id": "GqXS4jsY1HO8",
        "outputId": "e7a6b6c2-6d8b-4e50-e836-b1ebc6b018e9"
      },
      "outputs": [
        {
          "name": "stdout",
          "output_type": "stream",
          "text": [
            "Requirement already satisfied: pickle-mixin in c:\\users\\user\\onedrive\\ml\\employee-performance-prediction\\.venv\\lib\\site-packages (1.0.2)\n",
            "Note: you may need to restart the kernel to use updated packages.\n"
          ]
        }
      ],
      "source": [
        "pip install pickle-mixin"
      ]
    },
    {
      "cell_type": "code",
      "execution_count": 49,
      "metadata": {
        "colab": {
          "base_uri": "https://localhost:8080/"
        },
        "id": "SfaYvE8V1Muj",
        "outputId": "7d748296-f619-4ce0-95c7-9f42ca690f60"
      },
      "outputs": [
        {
          "name": "stdout",
          "output_type": "stream",
          "text": [
            "Requirement already satisfied: seaborn in c:\\users\\user\\onedrive\\ml\\employee-performance-prediction\\.venv\\lib\\site-packages (0.13.2)\n",
            "Requirement already satisfied: numpy!=1.24.0,>=1.20 in c:\\users\\user\\onedrive\\ml\\employee-performance-prediction\\.venv\\lib\\site-packages (from seaborn) (2.3.2)\n",
            "Requirement already satisfied: pandas>=1.2 in c:\\users\\user\\onedrive\\ml\\employee-performance-prediction\\.venv\\lib\\site-packages (from seaborn) (2.3.1)\n",
            "Requirement already satisfied: matplotlib!=3.6.1,>=3.4 in c:\\users\\user\\onedrive\\ml\\employee-performance-prediction\\.venv\\lib\\site-packages (from seaborn) (3.10.3)\n",
            "Requirement already satisfied: contourpy>=1.0.1 in c:\\users\\user\\onedrive\\ml\\employee-performance-prediction\\.venv\\lib\\site-packages (from matplotlib!=3.6.1,>=3.4->seaborn) (1.3.3)\n",
            "Requirement already satisfied: cycler>=0.10 in c:\\users\\user\\onedrive\\ml\\employee-performance-prediction\\.venv\\lib\\site-packages (from matplotlib!=3.6.1,>=3.4->seaborn) (0.12.1)\n",
            "Requirement already satisfied: fonttools>=4.22.0 in c:\\users\\user\\onedrive\\ml\\employee-performance-prediction\\.venv\\lib\\site-packages (from matplotlib!=3.6.1,>=3.4->seaborn) (4.59.0)\n",
            "Requirement already satisfied: kiwisolver>=1.3.1 in c:\\users\\user\\onedrive\\ml\\employee-performance-prediction\\.venv\\lib\\site-packages (from matplotlib!=3.6.1,>=3.4->seaborn) (1.4.8)\n",
            "Requirement already satisfied: packaging>=20.0 in c:\\users\\user\\onedrive\\ml\\employee-performance-prediction\\.venv\\lib\\site-packages (from matplotlib!=3.6.1,>=3.4->seaborn) (25.0)\n",
            "Requirement already satisfied: pillow>=8 in c:\\users\\user\\onedrive\\ml\\employee-performance-prediction\\.venv\\lib\\site-packages (from matplotlib!=3.6.1,>=3.4->seaborn) (11.3.0)\n",
            "Requirement already satisfied: pyparsing>=2.3.1 in c:\\users\\user\\onedrive\\ml\\employee-performance-prediction\\.venv\\lib\\site-packages (from matplotlib!=3.6.1,>=3.4->seaborn) (3.2.3)\n",
            "Requirement already satisfied: python-dateutil>=2.7 in c:\\users\\user\\onedrive\\ml\\employee-performance-prediction\\.venv\\lib\\site-packages (from matplotlib!=3.6.1,>=3.4->seaborn) (2.9.0.post0)\n",
            "Requirement already satisfied: pytz>=2020.1 in c:\\users\\user\\onedrive\\ml\\employee-performance-prediction\\.venv\\lib\\site-packages (from pandas>=1.2->seaborn) (2025.2)\n",
            "Requirement already satisfied: tzdata>=2022.7 in c:\\users\\user\\onedrive\\ml\\employee-performance-prediction\\.venv\\lib\\site-packages (from pandas>=1.2->seaborn) (2025.2)\n",
            "Requirement already satisfied: six>=1.5 in c:\\users\\user\\onedrive\\ml\\employee-performance-prediction\\.venv\\lib\\site-packages (from python-dateutil>=2.7->matplotlib!=3.6.1,>=3.4->seaborn) (1.17.0)\n",
            "Note: you may need to restart the kernel to use updated packages.\n"
          ]
        }
      ],
      "source": [
        "pip install seaborn"
      ]
    },
    {
      "cell_type": "code",
      "execution_count": 50,
      "metadata": {
        "colab": {
          "base_uri": "https://localhost:8080/"
        },
        "id": "4z1ZbjpS1Rot",
        "outputId": "e6aa25c6-11f1-47fc-9ddd-33d9731df1c2"
      },
      "outputs": [
        {
          "name": "stdout",
          "output_type": "stream",
          "text": [
            "Requirement already satisfied: Flask in c:\\users\\user\\onedrive\\ml\\employee-performance-prediction\\.venv\\lib\\site-packages (3.1.1)\n",
            "Requirement already satisfied: blinker>=1.9.0 in c:\\users\\user\\onedrive\\ml\\employee-performance-prediction\\.venv\\lib\\site-packages (from Flask) (1.9.0)\n",
            "Requirement already satisfied: click>=8.1.3 in c:\\users\\user\\onedrive\\ml\\employee-performance-prediction\\.venv\\lib\\site-packages (from Flask) (8.2.1)\n",
            "Requirement already satisfied: itsdangerous>=2.2.0 in c:\\users\\user\\onedrive\\ml\\employee-performance-prediction\\.venv\\lib\\site-packages (from Flask) (2.2.0)\n",
            "Requirement already satisfied: jinja2>=3.1.2 in c:\\users\\user\\onedrive\\ml\\employee-performance-prediction\\.venv\\lib\\site-packages (from Flask) (3.1.6)\n",
            "Requirement already satisfied: markupsafe>=2.1.1 in c:\\users\\user\\onedrive\\ml\\employee-performance-prediction\\.venv\\lib\\site-packages (from Flask) (3.0.2)\n",
            "Requirement already satisfied: werkzeug>=3.1.0 in c:\\users\\user\\onedrive\\ml\\employee-performance-prediction\\.venv\\lib\\site-packages (from Flask) (3.1.3)\n",
            "Requirement already satisfied: colorama in c:\\users\\user\\onedrive\\ml\\employee-performance-prediction\\.venv\\lib\\site-packages (from click>=8.1.3->Flask) (0.4.6)\n",
            "Note: you may need to restart the kernel to use updated packages.\n"
          ]
        }
      ],
      "source": [
        "pip install Flask"
      ]
    },
    {
      "cell_type": "code",
      "execution_count": 51,
      "metadata": {
        "colab": {
          "base_uri": "https://localhost:8080/"
        },
        "id": "MyHIE4758dvz",
        "outputId": "e4bb645b-5214-4c6b-e68c-c4786ec89ef1"
      },
      "outputs": [
        {
          "name": "stdout",
          "output_type": "stream",
          "text": [
            "Requirement already satisfied: MultiColumnLabelEncoder in c:\\users\\user\\onedrive\\ml\\employee-performance-prediction\\.venv\\lib\\site-packages (1.1.3)\n",
            "Note: you may need to restart the kernel to use updated packages.\n"
          ]
        }
      ],
      "source": [
        "pip install MultiColumnLabelEncoder"
      ]
    },
    {
      "cell_type": "code",
      "execution_count": 52,
      "metadata": {},
      "outputs": [
        {
          "name": "stdout",
          "output_type": "stream",
          "text": [
            "Requirement already satisfied: xgboost in c:\\users\\user\\onedrive\\ml\\employee-performance-prediction\\.venv\\lib\\site-packages (3.0.2)\n",
            "Requirement already satisfied: numpy in c:\\users\\user\\onedrive\\ml\\employee-performance-prediction\\.venv\\lib\\site-packages (from xgboost) (2.3.2)\n",
            "Requirement already satisfied: scipy in c:\\users\\user\\onedrive\\ml\\employee-performance-prediction\\.venv\\lib\\site-packages (from xgboost) (1.16.1)\n",
            "Note: you may need to restart the kernel to use updated packages.\n"
          ]
        }
      ],
      "source": [
        "pip install xgboost"
      ]
    },
    {
      "cell_type": "markdown",
      "metadata": {
        "id": "FvLvOi6I-gsP"
      },
      "source": [
        "**Importing the Libraries**"
      ]
    },
    {
      "cell_type": "markdown",
      "metadata": {
        "id": "AGVbipGX-rbh"
      },
      "source": []
    },
    {
      "cell_type": "code",
      "execution_count": 53,
      "metadata": {
        "id": "pT0bPjOE1WbS"
      },
      "outputs": [],
      "source": [
        "import pandas as pd\n",
        "import seaborn as sns\n",
        "import matplotlib.pyplot as plt\n",
        "import MultiColumnLabelEncoder\n",
        "from sklearn.model_selection import train_test_split \n",
        "from sklearn.linear_model import LinearRegression\n",
        "from sklearn.metrics import mean_squared_error\n",
        "from sklearn.metrics import mean_absolute_error \n",
        "from sklearn.metrics import r2_score\n",
        "from sklearn.ensemble import RandomForestRegressor\n",
        "import xgboost as xgb\n",
        "import pickle"
      ]
    },
    {
      "cell_type": "markdown",
      "metadata": {
        "id": "Y8YUCi35-zDC"
      },
      "source": [
        "Read The Dataset\n"
      ]
    },
    {
      "cell_type": "code",
      "execution_count": 54,
      "metadata": {
        "id": "CymTC5627DXu"
      },
      "outputs": [],
      "source": [
        "data = pd.read_csv(\"Dataset/garments_worker_productivity.csv\")"
      ]
    },
    {
      "cell_type": "code",
      "execution_count": 55,
      "metadata": {
        "colab": {
          "base_uri": "https://localhost:8080/",
          "height": 226
        },
        "id": "Vq3ABBwk8yA7",
        "outputId": "3e11c21a-bcd8-4c1b-c3ea-15f449d49252"
      },
      "outputs": [
        {
          "data": {
            "text/html": [
              "<div>\n",
              "<style scoped>\n",
              "    .dataframe tbody tr th:only-of-type {\n",
              "        vertical-align: middle;\n",
              "    }\n",
              "\n",
              "    .dataframe tbody tr th {\n",
              "        vertical-align: top;\n",
              "    }\n",
              "\n",
              "    .dataframe thead th {\n",
              "        text-align: right;\n",
              "    }\n",
              "</style>\n",
              "<table border=\"1\" class=\"dataframe\">\n",
              "  <thead>\n",
              "    <tr style=\"text-align: right;\">\n",
              "      <th></th>\n",
              "      <th>date</th>\n",
              "      <th>quarter</th>\n",
              "      <th>department</th>\n",
              "      <th>day</th>\n",
              "      <th>team</th>\n",
              "      <th>targeted_productivity</th>\n",
              "      <th>smv</th>\n",
              "      <th>wip</th>\n",
              "      <th>over_time</th>\n",
              "      <th>incentive</th>\n",
              "      <th>idle_time</th>\n",
              "      <th>idle_men</th>\n",
              "      <th>no_of_style_change</th>\n",
              "      <th>no_of_workers</th>\n",
              "      <th>actual_productivity</th>\n",
              "    </tr>\n",
              "  </thead>\n",
              "  <tbody>\n",
              "    <tr>\n",
              "      <th>0</th>\n",
              "      <td>1/1/2015</td>\n",
              "      <td>Quarter1</td>\n",
              "      <td>sweing</td>\n",
              "      <td>Thursday</td>\n",
              "      <td>8</td>\n",
              "      <td>0.80</td>\n",
              "      <td>26.16</td>\n",
              "      <td>1108.0</td>\n",
              "      <td>7080</td>\n",
              "      <td>98</td>\n",
              "      <td>0.0</td>\n",
              "      <td>0</td>\n",
              "      <td>0</td>\n",
              "      <td>59.0</td>\n",
              "      <td>0.940725</td>\n",
              "    </tr>\n",
              "    <tr>\n",
              "      <th>1</th>\n",
              "      <td>1/1/2015</td>\n",
              "      <td>Quarter1</td>\n",
              "      <td>finishing</td>\n",
              "      <td>Thursday</td>\n",
              "      <td>1</td>\n",
              "      <td>0.75</td>\n",
              "      <td>3.94</td>\n",
              "      <td>NaN</td>\n",
              "      <td>960</td>\n",
              "      <td>0</td>\n",
              "      <td>0.0</td>\n",
              "      <td>0</td>\n",
              "      <td>0</td>\n",
              "      <td>8.0</td>\n",
              "      <td>0.886500</td>\n",
              "    </tr>\n",
              "    <tr>\n",
              "      <th>2</th>\n",
              "      <td>1/1/2015</td>\n",
              "      <td>Quarter1</td>\n",
              "      <td>sweing</td>\n",
              "      <td>Thursday</td>\n",
              "      <td>11</td>\n",
              "      <td>0.80</td>\n",
              "      <td>11.41</td>\n",
              "      <td>968.0</td>\n",
              "      <td>3660</td>\n",
              "      <td>50</td>\n",
              "      <td>0.0</td>\n",
              "      <td>0</td>\n",
              "      <td>0</td>\n",
              "      <td>30.5</td>\n",
              "      <td>0.800570</td>\n",
              "    </tr>\n",
              "    <tr>\n",
              "      <th>3</th>\n",
              "      <td>1/1/2015</td>\n",
              "      <td>Quarter1</td>\n",
              "      <td>sweing</td>\n",
              "      <td>Thursday</td>\n",
              "      <td>12</td>\n",
              "      <td>0.80</td>\n",
              "      <td>11.41</td>\n",
              "      <td>968.0</td>\n",
              "      <td>3660</td>\n",
              "      <td>50</td>\n",
              "      <td>0.0</td>\n",
              "      <td>0</td>\n",
              "      <td>0</td>\n",
              "      <td>30.5</td>\n",
              "      <td>0.800570</td>\n",
              "    </tr>\n",
              "    <tr>\n",
              "      <th>4</th>\n",
              "      <td>1/1/2015</td>\n",
              "      <td>Quarter1</td>\n",
              "      <td>sweing</td>\n",
              "      <td>Thursday</td>\n",
              "      <td>6</td>\n",
              "      <td>0.80</td>\n",
              "      <td>25.90</td>\n",
              "      <td>1170.0</td>\n",
              "      <td>1920</td>\n",
              "      <td>50</td>\n",
              "      <td>0.0</td>\n",
              "      <td>0</td>\n",
              "      <td>0</td>\n",
              "      <td>56.0</td>\n",
              "      <td>0.800382</td>\n",
              "    </tr>\n",
              "  </tbody>\n",
              "</table>\n",
              "</div>"
            ],
            "text/plain": [
              "       date   quarter  department       day  team  targeted_productivity  \\\n",
              "0  1/1/2015  Quarter1      sweing  Thursday     8                   0.80   \n",
              "1  1/1/2015  Quarter1  finishing   Thursday     1                   0.75   \n",
              "2  1/1/2015  Quarter1      sweing  Thursday    11                   0.80   \n",
              "3  1/1/2015  Quarter1      sweing  Thursday    12                   0.80   \n",
              "4  1/1/2015  Quarter1      sweing  Thursday     6                   0.80   \n",
              "\n",
              "     smv     wip  over_time  incentive  idle_time  idle_men  \\\n",
              "0  26.16  1108.0       7080         98        0.0         0   \n",
              "1   3.94     NaN        960          0        0.0         0   \n",
              "2  11.41   968.0       3660         50        0.0         0   \n",
              "3  11.41   968.0       3660         50        0.0         0   \n",
              "4  25.90  1170.0       1920         50        0.0         0   \n",
              "\n",
              "   no_of_style_change  no_of_workers  actual_productivity  \n",
              "0                   0           59.0             0.940725  \n",
              "1                   0            8.0             0.886500  \n",
              "2                   0           30.5             0.800570  \n",
              "3                   0           30.5             0.800570  \n",
              "4                   0           56.0             0.800382  "
            ]
          },
          "execution_count": 55,
          "metadata": {},
          "output_type": "execute_result"
        }
      ],
      "source": [
        "data.head()"
      ]
    },
    {
      "cell_type": "markdown",
      "metadata": {},
      "source": [
        "Visualizing and analysing the data"
      ]
    },
    {
      "cell_type": "markdown",
      "metadata": {
        "id": "p9WoquFv-5AM"
      },
      "source": [
        "Correlation analysis"
      ]
    },
    {
      "cell_type": "code",
      "execution_count": 56,
      "metadata": {
        "colab": {
          "base_uri": "https://localhost:8080/",
          "height": 1000
        },
        "id": "bHfKvBw080k7",
        "outputId": "72f3cf2c-03a8-4fbd-e8c3-c90da733b719"
      },
      "outputs": [
        {
          "data": {
            "image/png": "[encoded data removed]",
            "text/plain": [
              "<Figure size 1500x1500 with 2 Axes>"
            ]
          },
          "metadata": {},
          "output_type": "display_data"
        }
      ],
      "source": [
        "import seaborn as sns\n",
        "import matplotlib.pyplot as plt\n",
        "import numpy as np\n",
        "\n",
        "numeric_data = data.select_dtypes(include=[np.number])\n",
        "corrMatrix = numeric_data.corr()  # Use numeric_data, assuming that's your numeric data DataFrame\n",
        "\n",
        "fig, ax = plt.subplots(figsize=(15, 15))\n",
        "sns.heatmap(corrMatrix, annot=True, linewidths=0.5, ax=ax)\n",
        "plt.show()  # Add parentheses to plt.show()\n"
      ]
    },
    {
      "cell_type": "markdown",
      "metadata": {
        "id": "MZTwaXQE_C2U"
      },
      "source": [
        "Descriptive analysis"
      ]
    },
    {
      "cell_type": "code",
      "execution_count": 57,
      "metadata": {
        "colab": {
          "base_uri": "https://localhost:8080/",
          "height": 300
        },
        "id": "TXGOP1fr91BE",
        "outputId": "8230083f-30b2-4116-d7f9-2f3cbecc2e9d"
      },
      "outputs": [
        {
          "data": {
            "text/html": [
              "<div>\n",
              "<style scoped>\n",
              "    .dataframe tbody tr th:only-of-type {\n",
              "        vertical-align: middle;\n",
              "    }\n",
              "\n",
              "    .dataframe tbody tr th {\n",
              "        vertical-align: top;\n",
              "    }\n",
              "\n",
              "    .dataframe thead th {\n",
              "        text-align: right;\n",
              "    }\n",
              "</style>\n",
              "<table border=\"1\" class=\"dataframe\">\n",
              "  <thead>\n",
              "    <tr style=\"text-align: right;\">\n",
              "      <th></th>\n",
              "      <th>team</th>\n",
              "      <th>targeted_productivity</th>\n",
              "      <th>smv</th>\n",
              "      <th>wip</th>\n",
              "      <th>over_time</th>\n",
              "      <th>incentive</th>\n",
              "      <th>idle_time</th>\n",
              "      <th>idle_men</th>\n",
              "      <th>no_of_style_change</th>\n",
              "      <th>no_of_workers</th>\n",
              "      <th>actual_productivity</th>\n",
              "    </tr>\n",
              "  </thead>\n",
              "  <tbody>\n",
              "    <tr>\n",
              "      <th>count</th>\n",
              "      <td>1197.000000</td>\n",
              "      <td>1197.000000</td>\n",
              "      <td>1197.000000</td>\n",
              "      <td>691.000000</td>\n",
              "      <td>1197.000000</td>\n",
              "      <td>1197.000000</td>\n",
              "      <td>1197.000000</td>\n",
              "      <td>1197.000000</td>\n",
              "      <td>1197.000000</td>\n",
              "      <td>1197.000000</td>\n",
              "      <td>1197.000000</td>\n",
              "    </tr>\n",
              "    <tr>\n",
              "      <th>mean</th>\n",
              "      <td>6.426901</td>\n",
              "      <td>0.729632</td>\n",
              "      <td>15.062172</td>\n",
              "      <td>1190.465991</td>\n",
              "      <td>4567.460317</td>\n",
              "      <td>38.210526</td>\n",
              "      <td>0.730159</td>\n",
              "      <td>0.369256</td>\n",
              "      <td>0.150376</td>\n",
              "      <td>34.609858</td>\n",
              "      <td>0.735091</td>\n",
              "    </tr>\n",
              "    <tr>\n",
              "      <th>std</th>\n",
              "      <td>3.463963</td>\n",
              "      <td>0.097891</td>\n",
              "      <td>10.943219</td>\n",
              "      <td>1837.455001</td>\n",
              "      <td>3348.823563</td>\n",
              "      <td>160.182643</td>\n",
              "      <td>12.709757</td>\n",
              "      <td>3.268987</td>\n",
              "      <td>0.427848</td>\n",
              "      <td>22.197687</td>\n",
              "      <td>0.174488</td>\n",
              "    </tr>\n",
              "    <tr>\n",
              "      <th>min</th>\n",
              "      <td>1.000000</td>\n",
              "      <td>0.070000</td>\n",
              "      <td>2.900000</td>\n",
              "      <td>7.000000</td>\n",
              "      <td>0.000000</td>\n",
              "      <td>0.000000</td>\n",
              "      <td>0.000000</td>\n",
              "      <td>0.000000</td>\n",
              "      <td>0.000000</td>\n",
              "      <td>2.000000</td>\n",
              "      <td>0.233705</td>\n",
              "    </tr>\n",
              "    <tr>\n",
              "      <th>25%</th>\n",
              "      <td>3.000000</td>\n",
              "      <td>0.700000</td>\n",
              "      <td>3.940000</td>\n",
              "      <td>774.500000</td>\n",
              "      <td>1440.000000</td>\n",
              "      <td>0.000000</td>\n",
              "      <td>0.000000</td>\n",
              "      <td>0.000000</td>\n",
              "      <td>0.000000</td>\n",
              "      <td>9.000000</td>\n",
              "      <td>0.650307</td>\n",
              "    </tr>\n",
              "    <tr>\n",
              "      <th>50%</th>\n",
              "      <td>6.000000</td>\n",
              "      <td>0.750000</td>\n",
              "      <td>15.260000</td>\n",
              "      <td>1039.000000</td>\n",
              "      <td>3960.000000</td>\n",
              "      <td>0.000000</td>\n",
              "      <td>0.000000</td>\n",
              "      <td>0.000000</td>\n",
              "      <td>0.000000</td>\n",
              "      <td>34.000000</td>\n",
              "      <td>0.773333</td>\n",
              "    </tr>\n",
              "    <tr>\n",
              "      <th>75%</th>\n",
              "      <td>9.000000</td>\n",
              "      <td>0.800000</td>\n",
              "      <td>24.260000</td>\n",
              "      <td>1252.500000</td>\n",
              "      <td>6960.000000</td>\n",
              "      <td>50.000000</td>\n",
              "      <td>0.000000</td>\n",
              "      <td>0.000000</td>\n",
              "      <td>0.000000</td>\n",
              "      <td>57.000000</td>\n",
              "      <td>0.850253</td>\n",
              "    </tr>\n",
              "    <tr>\n",
              "      <th>max</th>\n",
              "      <td>12.000000</td>\n",
              "      <td>0.800000</td>\n",
              "      <td>54.560000</td>\n",
              "      <td>23122.000000</td>\n",
              "      <td>25920.000000</td>\n",
              "      <td>3600.000000</td>\n",
              "      <td>300.000000</td>\n",
              "      <td>45.000000</td>\n",
              "      <td>2.000000</td>\n",
              "      <td>89.000000</td>\n",
              "      <td>1.120437</td>\n",
              "    </tr>\n",
              "  </tbody>\n",
              "</table>\n",
              "</div>"
            ],
            "text/plain": [
              "              team  targeted_productivity          smv           wip  \\\n",
              "count  1197.000000            1197.000000  1197.000000    691.000000   \n",
              "mean      6.426901               0.729632    15.062172   1190.465991   \n",
              "std       3.463963               0.097891    10.943219   1837.455001   \n",
              "min       1.000000               0.070000     2.900000      7.000000   \n",
              "25%       3.000000               0.700000     3.940000    774.500000   \n",
              "50%       6.000000               0.750000    15.260000   1039.000000   \n",
              "75%       9.000000               0.800000    24.260000   1252.500000   \n",
              "max      12.000000               0.800000    54.560000  23122.000000   \n",
              "\n",
              "          over_time    incentive    idle_time     idle_men  \\\n",
              "count   1197.000000  1197.000000  1197.000000  1197.000000   \n",
              "mean    4567.460317    38.210526     0.730159     0.369256   \n",
              "std     3348.823563   160.182643    12.709757     3.268987   \n",
              "min        0.000000     0.000000     0.000000     0.000000   \n",
              "25%     1440.000000     0.000000     0.000000     0.000000   \n",
              "50%     3960.000000     0.000000     0.000000     0.000000   \n",
              "75%     6960.000000    50.000000     0.000000     0.000000   \n",
              "max    25920.000000  3600.000000   300.000000    45.000000   \n",
              "\n",
              "       no_of_style_change  no_of_workers  actual_productivity  \n",
              "count         1197.000000    1197.000000          1197.000000  \n",
              "mean             0.150376      34.609858             0.735091  \n",
              "std              0.427848      22.197687             0.174488  \n",
              "min              0.000000       2.000000             0.233705  \n",
              "25%              0.000000       9.000000             0.650307  \n",
              "50%              0.000000      34.000000             0.773333  \n",
              "75%              0.000000      57.000000             0.850253  \n",
              "max              2.000000      89.000000             1.120437  "
            ]
          },
          "execution_count": 57,
          "metadata": {},
          "output_type": "execute_result"
        }
      ],
      "source": [
        "data.describe()"
      ]
    },
    {
      "cell_type": "markdown",
      "metadata": {
        "id": "Xu8los2t_H2L"
      },
      "source": [
        "**Data Pre-processing**"
      ]
    },
    {
      "cell_type": "code",
      "execution_count": 58,
      "metadata": {
        "colab": {
          "base_uri": "https://localhost:8080/"
        },
        "id": "-7tyQHSL-DM3",
        "outputId": "1b4b082d-37f0-444c-e181-ea3e831caf01"
      },
      "outputs": [
        {
          "data": {
            "text/plain": [
              "(1197, 15)"
            ]
          },
          "execution_count": 58,
          "metadata": {},
          "output_type": "execute_result"
        }
      ],
      "source": [
        "data.shape"
      ]
    },
    {
      "cell_type": "code",
      "execution_count": 59,
      "metadata": {
        "colab": {
          "base_uri": "https://localhost:8080/"
        },
        "id": "jn0SCyUS-IKs",
        "outputId": "d3e5f3f0-8541-4e00-e9db-13307a02506e"
      },
      "outputs": [
        {
          "name": "stdout",
          "output_type": "stream",
          "text": [
            "<class 'pandas.core.frame.DataFrame'>\n",
            "RangeIndex: 1197 entries, 0 to 1196\n",
            "Data columns (total 15 columns):\n",
            " #   Column                 Non-Null Count  Dtype  \n",
            "---  ------                 --------------  -----  \n",
            " 0   date                   1197 non-null   object \n",
            " 1   quarter                1197 non-null   object \n",
            " 2   department             1197 non-null   object \n",
            " 3   day                    1197 non-null   object \n",
            " 4   team                   1197 non-null   int64  \n",
            " 5   targeted_productivity  1197 non-null   float64\n",
            " 6   smv                    1197 non-null   float64\n",
            " 7   wip                    691 non-null    float64\n",
            " 8   over_time              1197 non-null   int64  \n",
            " 9   incentive              1197 non-null   int64  \n",
            " 10  idle_time              1197 non-null   float64\n",
            " 11  idle_men               1197 non-null   int64  \n",
            " 12  no_of_style_change     1197 non-null   int64  \n",
            " 13  no_of_workers          1197 non-null   float64\n",
            " 14  actual_productivity    1197 non-null   float64\n",
            "dtypes: float64(6), int64(5), object(4)\n",
            "memory usage: 140.4+ KB\n"
          ]
        }
      ],
      "source": [
        "data.info()"
      ]
    },
    {
      "cell_type": "markdown",
      "metadata": {
        "id": "HQ3AH6OJ_Qt4"
      },
      "source": [
        "Checking for null values"
      ]
    },
    {
      "cell_type": "code",
      "execution_count": 60,
      "metadata": {
        "colab": {
          "base_uri": "https://localhost:8080/"
        },
        "id": "DQrNSiTt-KIh",
        "outputId": "ffc8d12e-a522-4b8b-a2f6-733837dbc013"
      },
      "outputs": [
        {
          "data": {
            "text/plain": [
              "date                       0\n",
              "quarter                    0\n",
              "department                 0\n",
              "day                        0\n",
              "team                       0\n",
              "targeted_productivity      0\n",
              "smv                        0\n",
              "wip                      506\n",
              "over_time                  0\n",
              "incentive                  0\n",
              "idle_time                  0\n",
              "idle_men                   0\n",
              "no_of_style_change         0\n",
              "no_of_workers              0\n",
              "actual_productivity        0\n",
              "dtype: int64"
            ]
          },
          "execution_count": 60,
          "metadata": {},
          "output_type": "execute_result"
        }
      ],
      "source": [
        "data.isnull().sum()"
      ]
    },
    {
      "cell_type": "code",
      "execution_count": 61,
      "metadata": {
        "id": "LTLitGGe-Ree"
      },
      "outputs": [],
      "source": [
        "data.drop(['wip'],axis=1,inplace=True)"
      ]
    },
    {
      "cell_type": "markdown",
      "metadata": {
        "id": "chVsNp7WA-I2"
      },
      "source": [
        "Handling Date & department column\n"
      ]
    },
    {
      "cell_type": "code",
      "execution_count": 62,
      "metadata": {
        "id": "OepKKFsjBHCJ"
      },
      "outputs": [],
      "source": [
        "data[\"date\"] = pd.to_datetime(data[\"date\"])"
      ]
    },
    {
      "cell_type": "code",
      "execution_count": 63,
      "metadata": {
        "colab": {
          "base_uri": "https://localhost:8080/"
        },
        "id": "ySdWwvDjBP0D",
        "outputId": "981c516f-458c-4d22-c4f3-e0ad7deeaacf"
      },
      "outputs": [
        {
          "data": {
            "text/plain": [
              "0      2015-01-01\n",
              "1      2015-01-01\n",
              "2      2015-01-01\n",
              "3      2015-01-01\n",
              "4      2015-01-01\n",
              "          ...    \n",
              "1192   2015-03-11\n",
              "1193   2015-03-11\n",
              "1194   2015-03-11\n",
              "1195   2015-03-11\n",
              "1196   2015-03-11\n",
              "Name: date, Length: 1197, dtype: datetime64[ns]"
            ]
          },
          "execution_count": 63,
          "metadata": {},
          "output_type": "execute_result"
        }
      ],
      "source": [
        "data.date"
      ]
    },
    {
      "cell_type": "code",
      "execution_count": 64,
      "metadata": {
        "id": "oj3Gd00XBe3p"
      },
      "outputs": [],
      "source": [
        "data['month'] = data['date'].dt.month\n",
        "data.drop(['date'],axis=1, inplace=True)"
      ]
    },
    {
      "cell_type": "code",
      "execution_count": 65,
      "metadata": {
        "colab": {
          "base_uri": "https://localhost:8080/"
        },
        "id": "NfkpsgkHJuE8",
        "outputId": "469d2b3d-7bcc-4c85-bf95-7f4c072ba3ca"
      },
      "outputs": [
        {
          "data": {
            "text/plain": [
              "0       1\n",
              "1       1\n",
              "2       1\n",
              "3       1\n",
              "4       1\n",
              "       ..\n",
              "1192    3\n",
              "1193    3\n",
              "1194    3\n",
              "1195    3\n",
              "1196    3\n",
              "Name: month, Length: 1197, dtype: int32"
            ]
          },
          "execution_count": 65,
          "metadata": {},
          "output_type": "execute_result"
        }
      ],
      "source": [
        "data.month"
      ]
    },
    {
      "cell_type": "code",
      "execution_count": 66,
      "metadata": {
        "colab": {
          "base_uri": "https://localhost:8080/"
        },
        "id": "PAk4TXEOJxC2",
        "outputId": "fb550a75-9ff7-4e13-90f6-40fda1469b89"
      },
      "outputs": [
        {
          "data": {
            "text/plain": [
              "department\n",
              "sweing        691\n",
              "finishing     257\n",
              "finishing     249\n",
              "Name: count, dtype: int64"
            ]
          },
          "execution_count": 66,
          "metadata": {},
          "output_type": "execute_result"
        }
      ],
      "source": [
        "data['department'].value_counts()"
      ]
    },
    {
      "cell_type": "code",
      "execution_count": 67,
      "metadata": {
        "colab": {
          "base_uri": "https://localhost:8080/"
        },
        "id": "TuEWNl-KKDW2",
        "outputId": "1cb680cd-9440-4617-b0dd-8ebf9c771ed1"
      },
      "outputs": [
        {
          "data": {
            "text/plain": [
              "department\n",
              "sweing       691\n",
              "finishing    506\n",
              "Name: count, dtype: int64"
            ]
          },
          "execution_count": 67,
          "metadata": {},
          "output_type": "execute_result"
        }
      ],
      "source": [
        "data['department'] = data['department'].apply(lambda x: 'finishing' if x.replace(\" \",\"\") == 'finishing' else 'sweing')\n",
        "data['department'].value_counts()"
      ]
    },
    {
      "cell_type": "markdown",
      "metadata": {
        "id": "aCZhiqKYKwx0"
      },
      "source": [
        "Handling Categorical Values"
      ]
    },
    {
      "cell_type": "code",
      "execution_count": 68,
      "metadata": {
        "id": "ddPOfAgDKuY9"
      },
      "outputs": [],
      "source": [
        "import MultiColumnLabelEncoder\n",
        "mcle = MultiColumnLabelEncoder.MultiColumnLabelEncoder()\n",
        "data = mcle.fit_transform(data)"
      ]
    },
    {
      "cell_type": "markdown",
      "metadata": {
        "id": "29ZA0WT9LP1J"
      },
      "source": [
        "Splitting data into train and test"
      ]
    },
    {
      "cell_type": "code",
      "execution_count": 69,
      "metadata": {
        "id": "bAS2MPp1LMcb"
      },
      "outputs": [],
      "source": [
        "x=data.drop(['actual_productivity'],axis=1)\n",
        "y=data['actual_productivity']"
      ]
    },
    {
      "cell_type": "code",
      "execution_count": 70,
      "metadata": {
        "id": "DlJdH3xzLkw9"
      },
      "outputs": [],
      "source": [
        "X=x.to_numpy()"
      ]
    },
    {
      "cell_type": "code",
      "execution_count": 71,
      "metadata": {
        "colab": {
          "base_uri": "https://localhost:8080/"
        },
        "id": "rQJiPSzoLrhi",
        "outputId": "7f19fbda-efde-47a5-be3e-17e49bcaec09"
      },
      "outputs": [
        {
          "data": {
            "text/plain": [
              "array([[ 0. ,  0. ,  0. , ...,  0. , 59. ,  1. ],\n",
              "       [ 0. ,  1. ,  0. , ...,  0. ,  8. ,  1. ],\n",
              "       [ 0. ,  0. ,  0. , ...,  0. , 30.5,  1. ],\n",
              "       ...,\n",
              "       [ 1. ,  1. ,  5. , ...,  0. ,  8. ,  3. ],\n",
              "       [ 1. ,  1. ,  5. , ...,  0. , 15. ,  3. ],\n",
              "       [ 1. ,  1. ,  5. , ...,  0. ,  6. ,  3. ]], shape=(1197, 13))"
            ]
          },
          "execution_count": 71,
          "metadata": {},
          "output_type": "execute_result"
        }
      ],
      "source": [
        "X"
      ]
    },
    {
      "cell_type": "code",
      "execution_count": 72,
      "metadata": {
        "id": "z2YU-u9BLs4Q"
      },
      "outputs": [],
      "source": [
        "#Splitting the data\n",
        "from sklearn.model_selection import train_test_split\n",
        "x_train, x_test, y_train, y_test = train_test_split(X, y,train_size=0.8, random_state=0)"
      ]
    },
    {
      "cell_type": "markdown",
      "metadata": {
        "id": "lyPQSb6UMV73"
      },
      "source": [
        "# Model Building"
      ]
    },
    {
      "cell_type": "markdown",
      "metadata": {
        "id": "uCw1j41bMdqA"
      },
      "source": [
        "Linear Regression model"
      ]
    },
    {
      "cell_type": "code",
      "execution_count": 73,
      "metadata": {
        "id": "ADtV_1xVMS5Q"
      },
      "outputs": [],
      "source": [
        "from sklearn.linear_model import LinearRegression\n",
        "model_lr=LinearRegression()"
      ]
    },
    {
      "cell_type": "code",
      "execution_count": 74,
      "metadata": {
        "colab": {
          "base_uri": "https://localhost:8080/"
        },
        "id": "uDSBb1D6MwSa",
        "outputId": "1bdd7387-0e2e-44ee-a5df-0e4639cc57e0"
      },
      "outputs": [
        {
          "name": "stdout",
          "output_type": "stream",
          "text": [
            "test_MSE: 0.020973077246871134\n",
            "test_MAE: 0.1063916426844392\n",
            "R2_score: 0.2906317166092637\n"
          ]
        }
      ],
      "source": [
        "from sklearn.linear_model import LinearRegression\n",
        "from sklearn.metrics import mean_squared_error, mean_absolute_error, r2_score\n",
        "\n",
        "# Assuming you have already defined and split your training data (x_train, y_train) and test data (x_test, y_test)\n",
        "\n",
        "# Create a linear regression model\n",
        "model_lr = LinearRegression()\n",
        "\n",
        "# Train the model on the training data\n",
        "model_lr.fit(x_train, y_train)\n",
        "\n",
        "# Now you can make predictions on the test data\n",
        "pred_test = model_lr.predict(x_test)\n",
        "\n",
        "# Calculate and print the evaluation metrics\n",
        "print(\"test_MSE:\", mean_squared_error(y_test, pred_test))\n",
        "print(\"test_MAE:\", mean_absolute_error(y_test, pred_test))\n",
        "print(\"R2_score: {}\".format(r2_score(y_test, pred_test)))\n"
      ]
    },
    {
      "cell_type": "markdown",
      "metadata": {
        "id": "7yEXT6fZeEZx"
      },
      "source": [
        " Random Forest model"
      ]
    },
    {
      "cell_type": "code",
      "execution_count": 75,
      "metadata": {
        "id": "uO1tzCY1d9mQ"
      },
      "outputs": [],
      "source": [
        "from sklearn.ensemble import RandomForestRegressor\n",
        "model_rf = RandomForestRegressor(n_estimators=200,max_depth=5)"
      ]
    },
    {
      "cell_type": "code",
      "execution_count": 76,
      "metadata": {
        "colab": {
          "base_uri": "https://localhost:8080/"
        },
        "id": "iHZ1fu-oehJc",
        "outputId": "c73a2868-23b4-4aa2-80e1-e987d30042be"
      },
      "outputs": [
        {
          "name": "stdout",
          "output_type": "stream",
          "text": [
            "test_MSE: 0.015428987909770086\n",
            "test_MAE: 0.08567384848392724\n",
            "R2_score: 0.47814836424908347\n"
          ]
        }
      ],
      "source": [
        "from sklearn.ensemble import RandomForestRegressor\n",
        "model_rf = RandomForestRegressor(n_estimators=200, max_depth=5)\n",
        "\n",
        "# Train the model on the training data (missing in your code)\n",
        "model_rf.fit(x_train, y_train)\n",
        "\n",
        "# Make predictions on the test data\n",
        "pred = model_rf.predict(x_test)\n",
        "\n",
        "# Calculate and print the evaluation metrics\n",
        "print(\"test_MSE:\", mean_squared_error(y_test, pred))\n",
        "print(\"test_MAE:\", mean_absolute_error(y_test, pred))\n",
        "print(\"R2_score: {}\".format(r2_score(y_test, pred)))\n"
      ]
    },
    {
      "cell_type": "markdown",
      "metadata": {
        "id": "Y-SJUBdMfWEz"
      },
      "source": [
        "Xgboost model"
      ]
    },
    {
      "cell_type": "code",
      "execution_count": 77,
      "metadata": {
        "colab": {
          "base_uri": "https://localhost:8080/"
        },
        "id": "gY8LYR0wfYx4",
        "outputId": "12f90aea-a70c-4936-a767-be33f1c448f6"
      },
      "outputs": [
        {
          "name": "stdout",
          "output_type": "stream",
          "text": [
            "test_MSE: 0.014514854754028826\n",
            "test_MAE: 0.07633856539629594\n",
            "R2_score: 0.509066910909921\n"
          ]
        }
      ],
      "source": [
        "import xgboost as xgb\n",
        "model_xgb = xgb.XGBRegressor(n_estimators=200, max_depth=5, learning_rate=0.1)\n",
        "\n",
        "# Train the XGBoost model on the training data (missing in your code)\n",
        "model_xgb.fit(x_train, y_train)\n",
        "\n",
        "# Make predictions on the test data\n",
        "pred3 = model_xgb.predict(x_test)\n",
        "\n",
        "# Calculate and print the evaluation metrics\n",
        "print(\"test_MSE:\", mean_squared_error(y_test, pred3))\n",
        "print(\"test_MAE:\", mean_absolute_error(y_test, pred3))\n",
        "print(\"R2_score: {}\".format(r2_score(y_test, pred3)))\n"
      ]
    },
    {
      "cell_type": "markdown",
      "metadata": {
        "id": "7PUEIIoQhXZW"
      },
      "source": [
        " Compare the mode"
      ]
    },
    {
      "cell_type": "markdown",
      "metadata": {
        "id": "v45uapZhhgdK"
      },
      "source": [
        "Linear Regression:"
      ]
    },
    {
      "cell_type": "code",
      "execution_count": 78,
      "metadata": {
        "colab": {
          "base_uri": "https://localhost:8080/"
        },
        "id": "InoNfgkuhgCI",
        "outputId": "475a61cc-ab2c-4ca3-dfd8-eb41069bad01"
      },
      "outputs": [
        {
          "name": "stdout",
          "output_type": "stream",
          "text": [
            "test_MSE: 0.020973077246871134\n",
            "test_MAE: 0.1063916426844392\n",
            "R2_score: 0.2906317166092637\n"
          ]
        }
      ],
      "source": [
        "pred_test = model_lr.predict(x_test)\n",
        "print(\"test_MSE:\", mean_squared_error(y_test, pred_test))\n",
        "print(\"test_MAE:\", mean_absolute_error(y_test, pred_test))\n",
        "print(\"R2_score: {}\".format(r2_score(y_test, pred_test)))"
      ]
    },
    {
      "cell_type": "markdown",
      "metadata": {
        "id": "k9S3Qhiyh9ux"
      },
      "source": [
        "Random Forest:"
      ]
    },
    {
      "cell_type": "code",
      "execution_count": 79,
      "metadata": {
        "colab": {
          "base_uri": "https://localhost:8080/"
        },
        "id": "seW75dG5heS5",
        "outputId": "33ff64d0-f2d5-470c-c4a7-e40a306a554c"
      },
      "outputs": [
        {
          "name": "stdout",
          "output_type": "stream",
          "text": [
            "test_MSE: 0.015428987909770086\n",
            "test_MAE: 0.08567384848392724\n",
            "R2_score: 0.47814836424908347\n"
          ]
        }
      ],
      "source": [
        "pred = model_rf.predict(x_test)\n",
        "print(\"test_MSE:\", mean_squared_error(y_test, pred))\n",
        "print(\"test_MAE:\", mean_absolute_error(y_test, pred))\n",
        "print(\"R2_score: {}\".format(r2_score(y_test, pred)))"
      ]
    },
    {
      "cell_type": "markdown",
      "metadata": {
        "id": "Ki3N53WsiVPC"
      },
      "source": [
        "XGBoost:"
      ]
    },
    {
      "cell_type": "code",
      "execution_count": 80,
      "metadata": {
        "colab": {
          "base_uri": "https://localhost:8080/"
        },
        "id": "p6aWTWc8iYwd",
        "outputId": "12293f20-4e4a-4721-d0b5-56c1e5d818f6"
      },
      "outputs": [
        {
          "name": "stdout",
          "output_type": "stream",
          "text": [
            "test_MSE: 0.015428987909770086\n",
            "test_MAE: 0.08567384848392724\n",
            "R2_score: 0.47814836424908347\n"
          ]
        }
      ],
      "source": [
        "pred = model_rf.predict(x_test)\n",
        "print(\"test_MSE:\", mean_squared_error(y_test, pred))\n",
        "print(\"test_MAE:\", mean_absolute_error(y_test, pred))\n",
        "print(\"R2_score: {}\".format(r2_score(y_test, pred)))"
      ]
    },
    {
      "cell_type": "markdown",
      "metadata": {
        "id": "fBFf1ubYji9Q"
      },
      "source": [
        "Evaluating performance of the model and saving the model"
      ]
    },
    {
      "cell_type": "code",
      "execution_count": 81,
      "metadata": {
        "colab": {
          "base_uri": "https://localhost:8080/"
        },
        "id": "NSjVfJbAjmSk",
        "outputId": "7c8d172c-9b33-4ce8-e199-0fd3115882c6"
      },
      "outputs": [
        {
          "name": "stdout",
          "output_type": "stream",
          "text": [
            "test_MSE: 0.014514854754028826\n",
            "test_MAE: 0.07633856539629594\n",
            "R2_score: 0.509066910909921\n"
          ]
        }
      ],
      "source": [
        "pred3=model_xgb.predict(x_test)\n",
        "print(\"test_MSE:\", mean_squared_error(y_test, pred3))\n",
        "print(\"test_MAE:\", mean_absolute_error(y_test, pred3))\n",
        "print(\"R2_score: {}\".format(r2_score(y_test, pred3)))"
      ]
    },
    {
      "cell_type": "markdown",
      "metadata": {
        "id": "zJrzkccklEIL"
      },
      "source": [
        "# Application Building"
      ]
    },
    {
      "cell_type": "markdown",
      "metadata": {
        "id": "d1IYayzIlIK6"
      },
      "source": [
        "\n",
        "\n",
        "\n",
        "\n",
        " Building Html Pages:"
      ]
    },
    {
      "cell_type": "code",
      "execution_count": 82,
      "metadata": {
        "id": "89tvMp3plv9f"
      },
      "outputs": [],
      "source": [
        "#home.html\n",
        "#about.html\n",
        "#predict.html\n",
        "#submit.html"
      ]
    },
    {
      "cell_type": "markdown",
      "metadata": {
        "id": "DObIuCUhlT40"
      },
      "source": [
        "Build Python code:"
      ]
    },
    {
      "cell_type": "code",
      "execution_count": 83,
      "metadata": {
        "id": "Nl91jqJPlBJ-"
      },
      "outputs": [],
      "source": [
        "from flask import Flask, render_template,request\n",
        "import numpy as np\n",
        "import pickle"
      ]
    },
    {
      "cell_type": "code",
      "execution_count": 84,
      "metadata": {},
      "outputs": [],
      "source": [
        "import pickle\n",
        "pickle.dump(model_xgb,open('gwp.pkl','wb'))"
      ]
    }
  ],
  "metadata": {
    "colab": {
      "provenance": []
    },
    "kernelspec": {
      "display_name": ".venv",
      "language": "python",
      "name": "python3"
    },
    "language_info": {
      "codemirror_mode": {
        "name": "ipython",
        "version": 3
      },
      "file_extension": ".py",
      "mimetype": "text/x-python",
      "name": "python",
      "nbconvert_exporter": "python",
      "pygments_lexer": "ipython3",
      "version": "3.12.6"
    },
    "polyglot_notebook": {
      "kernelInfo": {
        "defaultKernelName": "csharp",
        "items": [
          {
            "aliases": [],
            "name": "csharp"
          }
        ]
      }
    }
  },
  "nbformat": 4,
  "nbformat_minor": 0
}
